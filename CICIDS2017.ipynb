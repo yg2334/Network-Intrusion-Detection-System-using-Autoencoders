{
  "cells": [
    {
      "cell_type": "markdown",
      "metadata": {
        "id": "CQaBM58kGjWr"
      },
      "source": [
        "# CICIDS2017"
      ]
    },
    {
      "cell_type": "markdown",
      "metadata": {
        "id": "106krDYdGjWt"
      },
      "source": [
        "Adding required libraries:"
      ]
    },
    {
      "cell_type": "code",
      "execution_count": null,
      "metadata": {
        "colab": {
          "base_uri": "https://localhost:8080/"
        },
        "id": "r1pzyGDDX2Xq",
        "outputId": "936de58d-3d0a-4a01-89f7-fa0befd99f83"
      },
      "outputs": [
        {
          "output_type": "stream",
          "name": "stdout",
          "text": [
            "Looking in indexes: https://pypi.org/simple, https://us-python.pkg.dev/colab-wheels/public/simple/\n",
            "Collecting pickle5\n",
            "  Downloading pickle5-0.0.11.tar.gz (132 kB)\n",
            "\u001b[2K     \u001b[90m━━━━━━━━━━━━━━━━━━━━━━━━━━━━━━━━━━━━━━\u001b[0m \u001b[32m132.1/132.1 KB\u001b[0m \u001b[31m11.9 MB/s\u001b[0m eta \u001b[36m0:00:00\u001b[0m\n",
            "\u001b[?25h  Preparing metadata (setup.py) ... \u001b[?25l\u001b[?25hdone\n",
            "Building wheels for collected packages: pickle5\n",
            "  Building wheel for pickle5 (setup.py) ... \u001b[?25l\u001b[?25hdone\n",
            "  Created wheel for pickle5: filename=pickle5-0.0.11-cp38-cp38-linux_x86_64.whl size=262134 sha256=04ac82f899fd3eea7eaa1f68ad78a38feaf0d515c568526f2472775c3922458a\n",
            "  Stored in directory: /root/.cache/pip/wheels/25/d4/61/dbd8edd1a0d656be7b4267c85db3b61951eb60016a0154a122\n",
            "Successfully built pickle5\n",
            "Installing collected packages: pickle5\n",
            "Successfully installed pickle5-0.0.11\n",
            "Looking in indexes: https://pypi.org/simple, https://us-python.pkg.dev/colab-wheels/public/simple/\n",
            "Collecting category_encoders\n",
            "  Downloading category_encoders-2.6.0-py2.py3-none-any.whl (81 kB)\n",
            "\u001b[2K     \u001b[90m━━━━━━━━━━━━━━━━━━━━━━━━━━━━━━━━━━━━━━━━\u001b[0m \u001b[32m81.2/81.2 KB\u001b[0m \u001b[31m9.1 MB/s\u001b[0m eta \u001b[36m0:00:00\u001b[0m\n",
            "\u001b[?25hRequirement already satisfied: patsy>=0.5.1 in /usr/local/lib/python3.8/dist-packages (from category_encoders) (0.5.3)\n",
            "Requirement already satisfied: numpy>=1.14.0 in /usr/local/lib/python3.8/dist-packages (from category_encoders) (1.21.6)\n",
            "Requirement already satisfied: pandas>=1.0.5 in /usr/local/lib/python3.8/dist-packages (from category_encoders) (1.3.5)\n",
            "Requirement already satisfied: scipy>=1.0.0 in /usr/local/lib/python3.8/dist-packages (from category_encoders) (1.7.3)\n",
            "Requirement already satisfied: scikit-learn>=0.20.0 in /usr/local/lib/python3.8/dist-packages (from category_encoders) (1.0.2)\n",
            "Requirement already satisfied: statsmodels>=0.9.0 in /usr/local/lib/python3.8/dist-packages (from category_encoders) (0.12.2)\n",
            "Requirement already satisfied: pytz>=2017.3 in /usr/local/lib/python3.8/dist-packages (from pandas>=1.0.5->category_encoders) (2022.7)\n",
            "Requirement already satisfied: python-dateutil>=2.7.3 in /usr/local/lib/python3.8/dist-packages (from pandas>=1.0.5->category_encoders) (2.8.2)\n",
            "Requirement already satisfied: six in /usr/local/lib/python3.8/dist-packages (from patsy>=0.5.1->category_encoders) (1.15.0)\n",
            "Requirement already satisfied: threadpoolctl>=2.0.0 in /usr/local/lib/python3.8/dist-packages (from scikit-learn>=0.20.0->category_encoders) (3.1.0)\n",
            "Requirement already satisfied: joblib>=0.11 in /usr/local/lib/python3.8/dist-packages (from scikit-learn>=0.20.0->category_encoders) (1.2.0)\n",
            "Installing collected packages: category_encoders\n",
            "Successfully installed category_encoders-2.6.0\n"
          ]
        }
      ],
      "source": [
        "!pip3 install pickle5\n",
        "!pip3 install category_encoders"
      ]
    },
    {
      "cell_type": "code",
      "execution_count": null,
      "metadata": {
        "id": "CnrwAZxRGjWu",
        "scrolled": true
      },
      "outputs": [],
      "source": [
        "import numpy as np\n",
        "import pandas as pd\n",
        "import seaborn as sns\n",
        "import matplotlib.pyplot as plt\n",
        "from sklearn import preprocessing\n",
        "from sklearn.preprocessing import LabelEncoder\n",
        "# from sklearn.preprocessing import Imputer\n",
        "from sklearn.impute import SimpleImputer\n",
        "from sklearn.preprocessing import MinMaxScaler\n",
        "from sklearn.model_selection import train_test_split,cross_val_score\n",
        "from sklearn.ensemble import RandomForestClassifier\n",
        "from sklearn.decomposition import PCA\n",
        "from sklearn.metrics import confusion_matrix,accuracy_score,precision_recall_fscore_support\n",
        "from sklearn.neighbors import KNeighborsClassifier\n",
        "from sklearn.tree import DecisionTreeClassifier\n",
        "from sklearn.svm import SVC\n",
        "from keras.wrappers.scikit_learn import KerasClassifier\n",
        "from keras.models import Sequential\n",
        "from keras.layers import Dense\n",
        "from keras.optimizers import Adam\n",
        "from keras.utils.np_utils import to_categorical\n",
        "from sklearn.ensemble import RandomForestRegressor\n",
        "import pickle5 as pickle\n",
        "from category_encoders import *"
      ]
    },
    {
      "cell_type": "markdown",
      "metadata": {
        "id": "XQTsnTO4GjWv"
      },
      "source": [
        "First of all, we determined the attack types we want to use in the dataset we have. These attack types are DoS DDoS and Port Scan.\n",
        "From the dataset we created a .csv file that covers these three attack traffic and BENIGN (Benign) traffic.\n",
        "Reading the data from the dataset file, combining the DoS attacks, reducing the noise, finding the NaN values ​​and assigning the column average, making the data types int64 and float64:"
      ]
    },
    {
      "cell_type": "code",
      "execution_count": null,
      "metadata": {
        "id": "RvFw1NmUGjWw"
      },
      "outputs": [],
      "source": [
        "# df=pd.read_csv('combined2.csv')\n",
        "# df_value=df[' Label'].value_counts()\n",
        "# df[' Label']=df[' Label'].apply({'DoS Hulk':'DoS', 'DoS GoldenEye':'DoS','DoS Slowhttptest':'DoS','DoS slowloris':'DoS' ,'BENIGN':'BENIGN' ,'DDoS':'DDoS', 'PortScan':'PortScan'}.get)\n",
        "# df2=df.drop_duplicates()\n",
        "# df2_value=df2[' Label'].value_counts()\n",
        "# datatype=df2.dtypes\n",
        "# df2['Flow Bytes/s']=df2['Flow Bytes/s'].astype('float64')\n",
        "# df2[' Flow Packets/s']=df2[' Flow Packets/s'].astype('float64')\n",
        "# NaN_values=df2.isnull().sum()\n",
        "# df2['Flow Bytes/s'].fillna(df2['Flow Bytes/s'].mean(),inplace=True)\n",
        "# print('First (row,Column) number of dataset: {} '.format(df.shape))\n",
        "# print('Combining DoS dips in Dataset Label and reducing noise:\\n',df2_value)\n",
        "# print('Last (row,Column) number of dataset: {}'.format(df2.shape))\n",
        "# #pd.options.mode.chained_assignment = None"
      ]
    },
    {
      "cell_type": "markdown",
      "metadata": {
        "id": "eaArc2d8GjWx"
      },
      "source": [
        "Converting the final dataset to .csv format"
      ]
    },
    {
      "cell_type": "markdown",
      "metadata": {
        "id": "t98HJGWvGjWy"
      },
      "source": [
        "df2.to_csv('dataset.csv', sep=',', encoding='utf-8', index=False)"
      ]
    },
    {
      "cell_type": "markdown",
      "metadata": {
        "id": "XV5Zub6mGjWy"
      },
      "source": [
        "In the next steps, we continued by reading the dataset.csv file we had just created.\n",
        "\n",
        "> Indented block\n",
        "\n"
      ]
    },
    {
      "cell_type": "code",
      "execution_count": null,
      "metadata": {
        "colab": {
          "base_uri": "https://localhost:8080/"
        },
        "id": "-JZTpW8aYgUP",
        "outputId": "dc7bd035-a21b-4442-9091-e81d7b0c4dca"
      },
      "outputs": [
        {
          "output_type": "stream",
          "name": "stdout",
          "text": [
            "Mounted at /content/drive\n",
            "/content/drive/My Drive/IDS implementation/CICIDS2017\n"
          ]
        }
      ],
      "source": [
        "from google.colab import drive\n",
        "drive.mount('/content/drive')\n",
        "%cd /content/drive/My\\ Drive/IDS\\ implementation/CICIDS2017\n",
        "#%cd /content/drive/My\\ Drive/"
      ]
    },
    {
      "cell_type": "markdown",
      "metadata": {
        "id": "kvq5VZpBGjWz"
      },
      "source": [
        "## what we did with the dataset.csv file"
      ]
    },
    {
      "cell_type": "markdown",
      "metadata": {
        "id": "7iN81BXCGjWz"
      },
      "source": [
        "### Reading dataset.csv, displaying dataset:\n",
        "\n"
      ]
    },
    {
      "cell_type": "code",
      "execution_count": null,
      "metadata": {
        "colab": {
          "base_uri": "https://localhost:8080/",
          "height": 539
        },
        "id": "47YPrAXlGjW0",
        "outputId": "36af155d-9270-4b1d-d83a-bd2a73097960"
      },
      "outputs": [
        {
          "output_type": "execute_result",
          "data": {
            "text/plain": [
              "          Destination Port   Flow Duration   Total Fwd Packets  \\\n",
              "0                    54865               3                   2   \n",
              "1                    55054             109                   1   \n",
              "2                    55055              52                   1   \n",
              "3                    46236              34                   1   \n",
              "4                    54863               3                   2   \n",
              "...                    ...             ...                 ...   \n",
              "1042552                 53           32215                   4   \n",
              "1042553                 53             324                   2   \n",
              "1042554              58030              82                   2   \n",
              "1042555                 53         1048635                   6   \n",
              "1042556                 53           94939                   4   \n",
              "\n",
              "          Total Backward Packets  Total Length of Fwd Packets  \\\n",
              "0                              0                           12   \n",
              "1                              1                            6   \n",
              "2                              1                            6   \n",
              "3                              1                            6   \n",
              "4                              0                           12   \n",
              "...                          ...                          ...   \n",
              "1042552                        2                          112   \n",
              "1042553                        2                           84   \n",
              "1042554                        1                           31   \n",
              "1042555                        2                          192   \n",
              "1042556                        2                          188   \n",
              "\n",
              "          Total Length of Bwd Packets   Fwd Packet Length Max  \\\n",
              "0                                   0                       6   \n",
              "1                                   6                       6   \n",
              "2                                   6                       6   \n",
              "3                                   6                       6   \n",
              "4                                   0                       6   \n",
              "...                               ...                     ...   \n",
              "1042552                           152                      28   \n",
              "1042553                           362                      42   \n",
              "1042554                             6                      31   \n",
              "1042555                           256                      32   \n",
              "1042556                           226                      47   \n",
              "\n",
              "          Fwd Packet Length Min   Fwd Packet Length Mean  \\\n",
              "0                             6                      6.0   \n",
              "1                             6                      6.0   \n",
              "2                             6                      6.0   \n",
              "3                             6                      6.0   \n",
              "4                             6                      6.0   \n",
              "...                         ...                      ...   \n",
              "1042552                      28                     28.0   \n",
              "1042553                      42                     42.0   \n",
              "1042554                       0                     15.5   \n",
              "1042555                      32                     32.0   \n",
              "1042556                      47                     47.0   \n",
              "\n",
              "          Fwd Packet Length Std  ...   min_seg_size_forward  Active Mean  \\\n",
              "0                       0.00000  ...                     20          0.0   \n",
              "1                       0.00000  ...                     20          0.0   \n",
              "2                       0.00000  ...                     20          0.0   \n",
              "3                       0.00000  ...                     20          0.0   \n",
              "4                       0.00000  ...                     20          0.0   \n",
              "...                         ...  ...                    ...          ...   \n",
              "1042552                 0.00000  ...                     20          0.0   \n",
              "1042553                 0.00000  ...                     20          0.0   \n",
              "1042554                21.92031  ...                     32          0.0   \n",
              "1042555                 0.00000  ...                     20          0.0   \n",
              "1042556                 0.00000  ...                     20          0.0   \n",
              "\n",
              "          Active Std   Active Max   Active Min  Idle Mean   Idle Std  \\\n",
              "0                0.0            0            0        0.0        0.0   \n",
              "1                0.0            0            0        0.0        0.0   \n",
              "2                0.0            0            0        0.0        0.0   \n",
              "3                0.0            0            0        0.0        0.0   \n",
              "4                0.0            0            0        0.0        0.0   \n",
              "...              ...          ...          ...        ...        ...   \n",
              "1042552          0.0            0            0        0.0        0.0   \n",
              "1042553          0.0            0            0        0.0        0.0   \n",
              "1042554          0.0            0            0        0.0        0.0   \n",
              "1042555          0.0            0            0        0.0        0.0   \n",
              "1042556          0.0            0            0        0.0        0.0   \n",
              "\n",
              "          Idle Max   Idle Min   Label  \n",
              "0                0          0  BENIGN  \n",
              "1                0          0  BENIGN  \n",
              "2                0          0  BENIGN  \n",
              "3                0          0  BENIGN  \n",
              "4                0          0  BENIGN  \n",
              "...            ...        ...     ...  \n",
              "1042552          0          0  BENIGN  \n",
              "1042553          0          0  BENIGN  \n",
              "1042554          0          0  BENIGN  \n",
              "1042555          0          0  BENIGN  \n",
              "1042556          0          0  BENIGN  \n",
              "\n",
              "[1042557 rows x 79 columns]"
            ],
            "text/html": [
              "\n",
              "  <div id=\"df-83849860-c41a-4fd6-866c-4d82d2df1fc3\">\n",
              "    <div class=\"colab-df-container\">\n",
              "      <div>\n",
              "<style scoped>\n",
              "    .dataframe tbody tr th:only-of-type {\n",
              "        vertical-align: middle;\n",
              "    }\n",
              "\n",
              "    .dataframe tbody tr th {\n",
              "        vertical-align: top;\n",
              "    }\n",
              "\n",
              "    .dataframe thead th {\n",
              "        text-align: right;\n",
              "    }\n",
              "</style>\n",
              "<table border=\"1\" class=\"dataframe\">\n",
              "  <thead>\n",
              "    <tr style=\"text-align: right;\">\n",
              "      <th></th>\n",
              "      <th>Destination Port</th>\n",
              "      <th>Flow Duration</th>\n",
              "      <th>Total Fwd Packets</th>\n",
              "      <th>Total Backward Packets</th>\n",
              "      <th>Total Length of Fwd Packets</th>\n",
              "      <th>Total Length of Bwd Packets</th>\n",
              "      <th>Fwd Packet Length Max</th>\n",
              "      <th>Fwd Packet Length Min</th>\n",
              "      <th>Fwd Packet Length Mean</th>\n",
              "      <th>Fwd Packet Length Std</th>\n",
              "      <th>...</th>\n",
              "      <th>min_seg_size_forward</th>\n",
              "      <th>Active Mean</th>\n",
              "      <th>Active Std</th>\n",
              "      <th>Active Max</th>\n",
              "      <th>Active Min</th>\n",
              "      <th>Idle Mean</th>\n",
              "      <th>Idle Std</th>\n",
              "      <th>Idle Max</th>\n",
              "      <th>Idle Min</th>\n",
              "      <th>Label</th>\n",
              "    </tr>\n",
              "  </thead>\n",
              "  <tbody>\n",
              "    <tr>\n",
              "      <th>0</th>\n",
              "      <td>54865</td>\n",
              "      <td>3</td>\n",
              "      <td>2</td>\n",
              "      <td>0</td>\n",
              "      <td>12</td>\n",
              "      <td>0</td>\n",
              "      <td>6</td>\n",
              "      <td>6</td>\n",
              "      <td>6.0</td>\n",
              "      <td>0.00000</td>\n",
              "      <td>...</td>\n",
              "      <td>20</td>\n",
              "      <td>0.0</td>\n",
              "      <td>0.0</td>\n",
              "      <td>0</td>\n",
              "      <td>0</td>\n",
              "      <td>0.0</td>\n",
              "      <td>0.0</td>\n",
              "      <td>0</td>\n",
              "      <td>0</td>\n",
              "      <td>BENIGN</td>\n",
              "    </tr>\n",
              "    <tr>\n",
              "      <th>1</th>\n",
              "      <td>55054</td>\n",
              "      <td>109</td>\n",
              "      <td>1</td>\n",
              "      <td>1</td>\n",
              "      <td>6</td>\n",
              "      <td>6</td>\n",
              "      <td>6</td>\n",
              "      <td>6</td>\n",
              "      <td>6.0</td>\n",
              "      <td>0.00000</td>\n",
              "      <td>...</td>\n",
              "      <td>20</td>\n",
              "      <td>0.0</td>\n",
              "      <td>0.0</td>\n",
              "      <td>0</td>\n",
              "      <td>0</td>\n",
              "      <td>0.0</td>\n",
              "      <td>0.0</td>\n",
              "      <td>0</td>\n",
              "      <td>0</td>\n",
              "      <td>BENIGN</td>\n",
              "    </tr>\n",
              "    <tr>\n",
              "      <th>2</th>\n",
              "      <td>55055</td>\n",
              "      <td>52</td>\n",
              "      <td>1</td>\n",
              "      <td>1</td>\n",
              "      <td>6</td>\n",
              "      <td>6</td>\n",
              "      <td>6</td>\n",
              "      <td>6</td>\n",
              "      <td>6.0</td>\n",
              "      <td>0.00000</td>\n",
              "      <td>...</td>\n",
              "      <td>20</td>\n",
              "      <td>0.0</td>\n",
              "      <td>0.0</td>\n",
              "      <td>0</td>\n",
              "      <td>0</td>\n",
              "      <td>0.0</td>\n",
              "      <td>0.0</td>\n",
              "      <td>0</td>\n",
              "      <td>0</td>\n",
              "      <td>BENIGN</td>\n",
              "    </tr>\n",
              "    <tr>\n",
              "      <th>3</th>\n",
              "      <td>46236</td>\n",
              "      <td>34</td>\n",
              "      <td>1</td>\n",
              "      <td>1</td>\n",
              "      <td>6</td>\n",
              "      <td>6</td>\n",
              "      <td>6</td>\n",
              "      <td>6</td>\n",
              "      <td>6.0</td>\n",
              "      <td>0.00000</td>\n",
              "      <td>...</td>\n",
              "      <td>20</td>\n",
              "      <td>0.0</td>\n",
              "      <td>0.0</td>\n",
              "      <td>0</td>\n",
              "      <td>0</td>\n",
              "      <td>0.0</td>\n",
              "      <td>0.0</td>\n",
              "      <td>0</td>\n",
              "      <td>0</td>\n",
              "      <td>BENIGN</td>\n",
              "    </tr>\n",
              "    <tr>\n",
              "      <th>4</th>\n",
              "      <td>54863</td>\n",
              "      <td>3</td>\n",
              "      <td>2</td>\n",
              "      <td>0</td>\n",
              "      <td>12</td>\n",
              "      <td>0</td>\n",
              "      <td>6</td>\n",
              "      <td>6</td>\n",
              "      <td>6.0</td>\n",
              "      <td>0.00000</td>\n",
              "      <td>...</td>\n",
              "      <td>20</td>\n",
              "      <td>0.0</td>\n",
              "      <td>0.0</td>\n",
              "      <td>0</td>\n",
              "      <td>0</td>\n",
              "      <td>0.0</td>\n",
              "      <td>0.0</td>\n",
              "      <td>0</td>\n",
              "      <td>0</td>\n",
              "      <td>BENIGN</td>\n",
              "    </tr>\n",
              "    <tr>\n",
              "      <th>...</th>\n",
              "      <td>...</td>\n",
              "      <td>...</td>\n",
              "      <td>...</td>\n",
              "      <td>...</td>\n",
              "      <td>...</td>\n",
              "      <td>...</td>\n",
              "      <td>...</td>\n",
              "      <td>...</td>\n",
              "      <td>...</td>\n",
              "      <td>...</td>\n",
              "      <td>...</td>\n",
              "      <td>...</td>\n",
              "      <td>...</td>\n",
              "      <td>...</td>\n",
              "      <td>...</td>\n",
              "      <td>...</td>\n",
              "      <td>...</td>\n",
              "      <td>...</td>\n",
              "      <td>...</td>\n",
              "      <td>...</td>\n",
              "      <td>...</td>\n",
              "    </tr>\n",
              "    <tr>\n",
              "      <th>1042552</th>\n",
              "      <td>53</td>\n",
              "      <td>32215</td>\n",
              "      <td>4</td>\n",
              "      <td>2</td>\n",
              "      <td>112</td>\n",
              "      <td>152</td>\n",
              "      <td>28</td>\n",
              "      <td>28</td>\n",
              "      <td>28.0</td>\n",
              "      <td>0.00000</td>\n",
              "      <td>...</td>\n",
              "      <td>20</td>\n",
              "      <td>0.0</td>\n",
              "      <td>0.0</td>\n",
              "      <td>0</td>\n",
              "      <td>0</td>\n",
              "      <td>0.0</td>\n",
              "      <td>0.0</td>\n",
              "      <td>0</td>\n",
              "      <td>0</td>\n",
              "      <td>BENIGN</td>\n",
              "    </tr>\n",
              "    <tr>\n",
              "      <th>1042553</th>\n",
              "      <td>53</td>\n",
              "      <td>324</td>\n",
              "      <td>2</td>\n",
              "      <td>2</td>\n",
              "      <td>84</td>\n",
              "      <td>362</td>\n",
              "      <td>42</td>\n",
              "      <td>42</td>\n",
              "      <td>42.0</td>\n",
              "      <td>0.00000</td>\n",
              "      <td>...</td>\n",
              "      <td>20</td>\n",
              "      <td>0.0</td>\n",
              "      <td>0.0</td>\n",
              "      <td>0</td>\n",
              "      <td>0</td>\n",
              "      <td>0.0</td>\n",
              "      <td>0.0</td>\n",
              "      <td>0</td>\n",
              "      <td>0</td>\n",
              "      <td>BENIGN</td>\n",
              "    </tr>\n",
              "    <tr>\n",
              "      <th>1042554</th>\n",
              "      <td>58030</td>\n",
              "      <td>82</td>\n",
              "      <td>2</td>\n",
              "      <td>1</td>\n",
              "      <td>31</td>\n",
              "      <td>6</td>\n",
              "      <td>31</td>\n",
              "      <td>0</td>\n",
              "      <td>15.5</td>\n",
              "      <td>21.92031</td>\n",
              "      <td>...</td>\n",
              "      <td>32</td>\n",
              "      <td>0.0</td>\n",
              "      <td>0.0</td>\n",
              "      <td>0</td>\n",
              "      <td>0</td>\n",
              "      <td>0.0</td>\n",
              "      <td>0.0</td>\n",
              "      <td>0</td>\n",
              "      <td>0</td>\n",
              "      <td>BENIGN</td>\n",
              "    </tr>\n",
              "    <tr>\n",
              "      <th>1042555</th>\n",
              "      <td>53</td>\n",
              "      <td>1048635</td>\n",
              "      <td>6</td>\n",
              "      <td>2</td>\n",
              "      <td>192</td>\n",
              "      <td>256</td>\n",
              "      <td>32</td>\n",
              "      <td>32</td>\n",
              "      <td>32.0</td>\n",
              "      <td>0.00000</td>\n",
              "      <td>...</td>\n",
              "      <td>20</td>\n",
              "      <td>0.0</td>\n",
              "      <td>0.0</td>\n",
              "      <td>0</td>\n",
              "      <td>0</td>\n",
              "      <td>0.0</td>\n",
              "      <td>0.0</td>\n",
              "      <td>0</td>\n",
              "      <td>0</td>\n",
              "      <td>BENIGN</td>\n",
              "    </tr>\n",
              "    <tr>\n",
              "      <th>1042556</th>\n",
              "      <td>53</td>\n",
              "      <td>94939</td>\n",
              "      <td>4</td>\n",
              "      <td>2</td>\n",
              "      <td>188</td>\n",
              "      <td>226</td>\n",
              "      <td>47</td>\n",
              "      <td>47</td>\n",
              "      <td>47.0</td>\n",
              "      <td>0.00000</td>\n",
              "      <td>...</td>\n",
              "      <td>20</td>\n",
              "      <td>0.0</td>\n",
              "      <td>0.0</td>\n",
              "      <td>0</td>\n",
              "      <td>0</td>\n",
              "      <td>0.0</td>\n",
              "      <td>0.0</td>\n",
              "      <td>0</td>\n",
              "      <td>0</td>\n",
              "      <td>BENIGN</td>\n",
              "    </tr>\n",
              "  </tbody>\n",
              "</table>\n",
              "<p>1042557 rows × 79 columns</p>\n",
              "</div>\n",
              "      <button class=\"colab-df-convert\" onclick=\"convertToInteractive('df-83849860-c41a-4fd6-866c-4d82d2df1fc3')\"\n",
              "              title=\"Convert this dataframe to an interactive table.\"\n",
              "              style=\"display:none;\">\n",
              "        \n",
              "  <svg xmlns=\"http://www.w3.org/2000/svg\" height=\"24px\"viewBox=\"0 0 24 24\"\n",
              "       width=\"24px\">\n",
              "    <path d=\"M0 0h24v24H0V0z\" fill=\"none\"/>\n",
              "    <path d=\"M18.56 5.44l.94 2.06.94-2.06 2.06-.94-2.06-.94-.94-2.06-.94 2.06-2.06.94zm-11 1L8.5 8.5l.94-2.06 2.06-.94-2.06-.94L8.5 2.5l-.94 2.06-2.06.94zm10 10l.94 2.06.94-2.06 2.06-.94-2.06-.94-.94-2.06-.94 2.06-2.06.94z\"/><path d=\"M17.41 7.96l-1.37-1.37c-.4-.4-.92-.59-1.43-.59-.52 0-1.04.2-1.43.59L10.3 9.45l-7.72 7.72c-.78.78-.78 2.05 0 2.83L4 21.41c.39.39.9.59 1.41.59.51 0 1.02-.2 1.41-.59l7.78-7.78 2.81-2.81c.8-.78.8-2.07 0-2.86zM5.41 20L4 18.59l7.72-7.72 1.47 1.35L5.41 20z\"/>\n",
              "  </svg>\n",
              "      </button>\n",
              "      \n",
              "  <style>\n",
              "    .colab-df-container {\n",
              "      display:flex;\n",
              "      flex-wrap:wrap;\n",
              "      gap: 12px;\n",
              "    }\n",
              "\n",
              "    .colab-df-convert {\n",
              "      background-color: #E8F0FE;\n",
              "      border: none;\n",
              "      border-radius: 50%;\n",
              "      cursor: pointer;\n",
              "      display: none;\n",
              "      fill: #1967D2;\n",
              "      height: 32px;\n",
              "      padding: 0 0 0 0;\n",
              "      width: 32px;\n",
              "    }\n",
              "\n",
              "    .colab-df-convert:hover {\n",
              "      background-color: #E2EBFA;\n",
              "      box-shadow: 0px 1px 2px rgba(60, 64, 67, 0.3), 0px 1px 3px 1px rgba(60, 64, 67, 0.15);\n",
              "      fill: #174EA6;\n",
              "    }\n",
              "\n",
              "    [theme=dark] .colab-df-convert {\n",
              "      background-color: #3B4455;\n",
              "      fill: #D2E3FC;\n",
              "    }\n",
              "\n",
              "    [theme=dark] .colab-df-convert:hover {\n",
              "      background-color: #434B5C;\n",
              "      box-shadow: 0px 1px 3px 1px rgba(0, 0, 0, 0.15);\n",
              "      filter: drop-shadow(0px 1px 2px rgba(0, 0, 0, 0.3));\n",
              "      fill: #FFFFFF;\n",
              "    }\n",
              "  </style>\n",
              "\n",
              "      <script>\n",
              "        const buttonEl =\n",
              "          document.querySelector('#df-83849860-c41a-4fd6-866c-4d82d2df1fc3 button.colab-df-convert');\n",
              "        buttonEl.style.display =\n",
              "          google.colab.kernel.accessAllowed ? 'block' : 'none';\n",
              "\n",
              "        async function convertToInteractive(key) {\n",
              "          const element = document.querySelector('#df-83849860-c41a-4fd6-866c-4d82d2df1fc3');\n",
              "          const dataTable =\n",
              "            await google.colab.kernel.invokeFunction('convertToInteractive',\n",
              "                                                     [key], {});\n",
              "          if (!dataTable) return;\n",
              "\n",
              "          const docLinkHtml = 'Like what you see? Visit the ' +\n",
              "            '<a target=\"_blank\" href=https://colab.research.google.com/notebooks/data_table.ipynb>data table notebook</a>'\n",
              "            + ' to learn more about interactive tables.';\n",
              "          element.innerHTML = '';\n",
              "          dataTable['output_type'] = 'display_data';\n",
              "          await google.colab.output.renderOutput(dataTable, element);\n",
              "          const docLink = document.createElement('div');\n",
              "          docLink.innerHTML = docLinkHtml;\n",
              "          element.appendChild(docLink);\n",
              "        }\n",
              "      </script>\n",
              "    </div>\n",
              "  </div>\n",
              "  "
            ]
          },
          "metadata": {},
          "execution_count": 4
        }
      ],
      "source": [
        "dataset=pd.read_csv('dataset.csv')\n",
        "dataset"
      ]
    },
    {
      "cell_type": "code",
      "execution_count": null,
      "metadata": {
        "id": "oF_yvB7Fl5tc"
      },
      "outputs": [],
      "source": [
        "dataset[' Label'].unique()"
      ]
    },
    {
      "cell_type": "code",
      "execution_count": null,
      "metadata": {
        "id": "hiTIWFWZmo0V",
        "colab": {
          "base_uri": "https://localhost:8080/"
        },
        "outputId": "74e81c36-cd14-468d-d945-b88cdfeec0d0"
      },
      "outputs": [
        {
          "output_type": "execute_result",
          "data": {
            "text/plain": [
              "Index([' Destination Port', ' Flow Duration', ' Total Fwd Packets',\n",
              "       ' Total Backward Packets', 'Total Length of Fwd Packets',\n",
              "       ' Total Length of Bwd Packets', ' Fwd Packet Length Max',\n",
              "       ' Fwd Packet Length Min', ' Fwd Packet Length Mean',\n",
              "       ' Fwd Packet Length Std', 'Bwd Packet Length Max',\n",
              "       ' Bwd Packet Length Min', ' Bwd Packet Length Mean',\n",
              "       ' Bwd Packet Length Std', 'Flow Bytes/s', ' Flow Packets/s',\n",
              "       ' Flow IAT Mean', ' Flow IAT Std', ' Flow IAT Max', ' Flow IAT Min',\n",
              "       'Fwd IAT Total', ' Fwd IAT Mean', ' Fwd IAT Std', ' Fwd IAT Max',\n",
              "       ' Fwd IAT Min', 'Bwd IAT Total', ' Bwd IAT Mean', ' Bwd IAT Std',\n",
              "       ' Bwd IAT Max', ' Bwd IAT Min', 'Fwd PSH Flags', ' Bwd PSH Flags',\n",
              "       ' Fwd URG Flags', ' Bwd URG Flags', ' Fwd Header Length',\n",
              "       ' Bwd Header Length', 'Fwd Packets/s', ' Bwd Packets/s',\n",
              "       ' Min Packet Length', ' Max Packet Length', ' Packet Length Mean',\n",
              "       ' Packet Length Std', ' Packet Length Variance', 'FIN Flag Count',\n",
              "       ' SYN Flag Count', ' RST Flag Count', ' PSH Flag Count',\n",
              "       ' ACK Flag Count', ' URG Flag Count', ' CWE Flag Count',\n",
              "       ' ECE Flag Count', ' Down/Up Ratio', ' Average Packet Size',\n",
              "       ' Avg Fwd Segment Size', ' Avg Bwd Segment Size',\n",
              "       ' Fwd Header Length.1', 'Fwd Avg Bytes/Bulk', ' Fwd Avg Packets/Bulk',\n",
              "       ' Fwd Avg Bulk Rate', ' Bwd Avg Bytes/Bulk', ' Bwd Avg Packets/Bulk',\n",
              "       'Bwd Avg Bulk Rate', 'Subflow Fwd Packets', ' Subflow Fwd Bytes',\n",
              "       ' Subflow Bwd Packets', ' Subflow Bwd Bytes', 'Init_Win_bytes_forward',\n",
              "       ' Init_Win_bytes_backward', ' act_data_pkt_fwd',\n",
              "       ' min_seg_size_forward', 'Active Mean', ' Active Std', ' Active Max',\n",
              "       ' Active Min', 'Idle Mean', ' Idle Std', ' Idle Max', ' Idle Min',\n",
              "       ' Label'],\n",
              "      dtype='object')"
            ]
          },
          "metadata": {},
          "execution_count": 25
        }
      ],
      "source": [
        "dataset.columns"
      ]
    },
    {
      "cell_type": "markdown",
      "metadata": {
        "id": "prB62G49GjW1"
      },
      "source": [
        "Application of algorithms in binary groups (DoS,BENIGN),(DDoS,BENIGN)(PortScan,BENIGN);\n",
        "First, we created new dataframes by taking rows with certain Labels from the existing dataframe."
      ]
    },
    {
      "cell_type": "markdown",
      "metadata": {
        "id": "cY0thZ4hGjW1"
      },
      "source": [
        "### Creation of dataframe with DoS and BENIGN:\n",
        "\n"
      ]
    },
    {
      "cell_type": "code",
      "execution_count": null,
      "metadata": {
        "id": "UMCyEBdmGjW2"
      },
      "outputs": [],
      "source": [
        "DoS_df1=dataset[dataset[' Label']=='BENIGN']\n",
        "DoS_df=DoS_df1.append(dataset[dataset[' Label']=='DoS'])\n",
        "DoS_df"
      ]
    },
    {
      "cell_type": "markdown",
      "metadata": {
        "id": "UI5ciRoBGjW2"
      },
      "source": [
        "### Dataframe of DDoS and Benign.\n",
        "> Indented block\n",
        "\n",
        "\n",
        "\n"
      ]
    },
    {
      "cell_type": "code",
      "execution_count": null,
      "metadata": {
        "id": "lr98SFL7GjW2"
      },
      "outputs": [],
      "source": [
        "DDoS_df1=dataset[dataset[' Label']=='BENIGN']\n",
        "DDoS_df=DDoS_df1.append(dataset[dataset[' Label']=='DDoS'])\n",
        "DDoS_df\n",
        "#757096x79"
      ]
    },
    {
      "cell_type": "markdown",
      "metadata": {
        "id": "Uqs-vKqOGjW3"
      },
      "source": [
        "### Creation of dataframe with PortScan and BENIGN"
      ]
    },
    {
      "cell_type": "code",
      "execution_count": null,
      "metadata": {
        "id": "cRwHYimRGjW4",
        "scrolled": true
      },
      "outputs": [],
      "source": [
        "PortScan_df1=dataset[dataset[' Label']=='BENIGN']\n",
        "PortScan_df=PortScan_df1.append(dataset[dataset[' Label']=='PortScan'])\n",
        "PortScan_df\n",
        "#719893 rows × 79 columns\n"
      ]
    },
    {
      "cell_type": "markdown",
      "metadata": {
        "id": "dXSfL9yGGjW4"
      },
      "source": [
        "### Labeling the attack traffic as abnormal and tagging the BENIGN traffic as Normal and creating the dataframe:"
      ]
    },
    {
      "cell_type": "code",
      "execution_count": null,
      "metadata": {
        "id": "XHCfmeDLGjW5",
        "scrolled": true
      },
      "outputs": [],
      "source": [
        "NA_df=dataset\n",
        "NA_df[' Label']=NA_df[' Label'].apply({'DoS':'Anormal','BENIGN':'Normal' ,'DDoS':'Anormal', 'PortScan':'Anormal'}.get)\n",
        "NA_df"
      ]
    },
    {
      "cell_type": "markdown",
      "metadata": {
        "id": "YbhWEmccGjW5"
      },
      "source": []
    },
    {
      "cell_type": "markdown",
      "metadata": {
        "id": "K9mTK4q6GjW5"
      },
      "source": [
        "DoS_df.to_csv('DoS_dataset.csv', sep=',', encoding='utf-8', index=False)\n",
        "\n",
        "DDoS_df.to_csv('DDoS_dataset.csv', sep=',', encoding='utf-8', index=False)\n",
        "\n",
        "PortScan_df.to_csv('PortScan_dataset.csv', sep=',', encoding='utf-8', index=False)\n",
        "\n",
        "NA_df.to_csv('NormalAnormal_dataset.csv', sep=',', encoding='utf-8', index=False)"
      ]
    },
    {
      "cell_type": "markdown",
      "metadata": {
        "id": "GV9n1AuRGjW5"
      },
      "source": [
        "NaN_values1=DoS_df.isnull().sum()\n",
        "NaN_values2=DDoS_df.isnull().sum()\n",
        "NaN_values3=PortScan_df.isnull().sum()\n",
        "NaN_values4=NA_df.isnull().sum()\n",
        "NaN_values1\n",
        "NaN_values2\n",
        "NaN_values3\n",
        "NaN_values4\n"
      ]
    },
    {
      "cell_type": "code",
      "execution_count": null,
      "metadata": {
        "id": "QyZKopJiFyzf"
      },
      "outputs": [],
      "source": []
    },
    {
      "cell_type": "markdown",
      "metadata": {
        "id": "tjcYyWzKGjW6"
      },
      "source": [
        "## Methods written for algorithms"
      ]
    },
    {
      "cell_type": "code",
      "execution_count": null,
      "metadata": {
        "id": "O0TLMLU5GjW6"
      },
      "outputs": [],
      "source": [
        "def train_test_dataset(df1):\n",
        "    pd.set_option('mode.use_inf_as_na', True)\n",
        "    #pd.DataFrame(df).fillna(\"NaN\")\n",
        "    df1.dropna(inplace=True)\n",
        "    X1 = df1.drop([' Label'],axis=1)\n",
        "    y1 = df1.iloc[:, -1].values.reshape(-1,1)\n",
        "    enc = OrdinalEncoder().fit(X1)\n",
        "    X = enc.transform(X1)\n",
        "    filehandler = open(\"enc_features.obj\",\"wb\")\n",
        "    pickle.dump(enc,filehandler)\n",
        "    filehandler.close()\n",
        "\n",
        "    enc1 = OrdinalEncoder().fit(y1)\n",
        "    y = enc1.transform(y1)\n",
        "    filehandler = open(\"enc_label.obj\",\"wb\")\n",
        "    pickle.dump(enc1,filehandler)\n",
        "    filehandler.close()\n",
        "    y=np.ravel(y)\n",
        "    X_train, X_test, y_train, y_test = train_test_split(X,y, train_size = 0.7, test_size = 0.3, random_state = 0, stratify = y)\n",
        "    return  X_train, X_test, y_train, y_test"
      ]
    },
    {
      "cell_type": "code",
      "execution_count": null,
      "metadata": {
        "id": "5SOYiE4UGjW7"
      },
      "outputs": [],
      "source": [
        "def RandomForest(X_train, X_test, y_train, y_test):\n",
        "    rf = RandomForestClassifier(random_state = 0)\n",
        "    imputer = SimpleImputer(missing_values=np.nan, strategy = \"mean\")\n",
        "    imputer = imputer.fit(X_train)\n",
        "    X_train = imputer.transform(X_train)\n",
        "    X_test = imputer.transform(X_test)\n",
        "    rf.fit(X_train,y_train)\n",
        "    filename = 'rf1.sav'\n",
        "    pickle.dump(rf, open(filename, 'wb'))\n",
        "    rf_score=rf.score(X_test,y_test)\n",
        "    y_predict=rf.predict(X_test)\n",
        "    y_true=y_test\n",
        "    print('Random Forest Accuracy:'+ str(rf_score))\n",
        "    precision,recall,fscore,none= precision_recall_fscore_support(y_true, y_predict, average='weighted')\n",
        "    print('Random Forest precision_recall_fscore:'+(str(precision))+(str(recall))+(str(fscore)))\n",
        "\n",
        "    cm=confusion_matrix(y_true,y_predict)\n",
        "    f,ax=plt.subplots(figsize=(5,5))\n",
        "    sns.heatmap(cm,annot=True,linewidth=0.5,linecolor=\"red\",fmt=\".0f\",ax=ax)\n",
        "    plt.xlabel(\"y_pred\")\n",
        "    plt.ylabel(\"y_true\")\n",
        "    plt.show()\n",
        "    return rf_score,precision,recall,fscore,none\n",
        ""
      ]
    },
    {
      "cell_type": "code",
      "execution_count": null,
      "metadata": {
        "id": "7d-G2m3uGjW7"
      },
      "outputs": [],
      "source": [
        "def DecisionTree(X_train, X_test, y_train, y_test):\n",
        "    dt = DecisionTreeClassifier(random_state = 0)\n",
        "    imputer = SimpleImputer(missing_values=np.nan, strategy = \"mean\")\n",
        "    imputer = imputer.fit(X_train)\n",
        "    X_train = imputer.transform(X_train)\n",
        "    X_test = imputer.transform(X_test)\n",
        "    dt.fit(X_train, y_train)\n",
        "    filename = 'dt1.sav'\n",
        "    pickle.dump(dt, open(filename, 'wb'))\n",
        "    score=dt.score(X_test,y_test)\n",
        "    print('Decision Tree Accuracy:'+ str(score))\n",
        "   # print('Decision Tree Accuracy2:'+ str(accuracy_score(y_test, y_predict)))\n",
        "    y_predict=dt.predict(X_test)\n",
        "    y_true=y_test\n",
        "    precision,recall,fscore,none= precision_recall_fscore_support(y_true, y_predict, average='weighted')\n",
        "    print('Decision Tree precision_recall_fscore:'+(str(precision))+(str(recall))+(str(fscore)))\n",
        "    cm=confusion_matrix(y_true,y_predict)\n",
        "    f,ax=plt.subplots(figsize=(5,5))\n",
        "    sns.heatmap(cm,annot=True,linewidth=0.5,linecolor=\"red\",fmt=\".0f\",ax=ax)\n",
        "    plt.xlabel(\"y_pred\")\n",
        "    plt.ylabel(\"y_true\")\n",
        "    plt.show()\n",
        "    return score,precision,recall,fscore,none"
      ]
    },
    {
      "cell_type": "code",
      "execution_count": null,
      "metadata": {
        "id": "GudjADV8GjW7"
      },
      "outputs": [],
      "source": [
        "def kNN(X_train, X_test, y_train, y_test):\n",
        "    knn=KNeighborsClassifier(n_neighbors=5)\n",
        "    imputer = SimpleImputer(missing_values=np.nan, strategy = \"mean\")\n",
        "    imputer = imputer.fit(X_train)\n",
        "    X_train = imputer.transform(X_train)\n",
        "    X_test = imputer.transform(X_test)\n",
        "    knn.fit(X_train,y_train)\n",
        "    filename = 'knn.sav'\n",
        "    pickle.dump(knn, open(filename, 'wb'))\n",
        "    prediction=knn.predict(X_test)\n",
        "    score=knn.score(X_test,y_test)\n",
        "    print(\"5 nn score:\"+ str(score))\n",
        "    y_predict=knn.predict(X_test)\n",
        "    y_true=y_test\n",
        "    precision,recall,fscore,none= precision_recall_fscore_support(y_true, y_predict, average='weighted')\n",
        "    print('5nn precision_recall_fscore:'+(str(precision))+(str(recall))+(str(fscore)))\n",
        "    cm=confusion_matrix(y_true,y_predict)\n",
        "    f,ax=plt.subplots(figsize=(5,5))\n",
        "    sns.heatmap(cm,annot=True,linewidth=0.5,linecolor=\"red\",fmt=\".0f\",ax=ax)\n",
        "    plt.xlabel(\"y_pred\")\n",
        "    plt.ylabel(\"y_true\")\n",
        "    plt.show()\n",
        "    return score,precision,recall,fscore,none\n",
        ""
      ]
    },
    {
      "cell_type": "code",
      "execution_count": null,
      "metadata": {
        "id": "gQLhOK0xGjW8"
      },
      "outputs": [],
      "source": [
        "def SVM(X_train, X_test, y_train, y_test):\n",
        "    svclassifier = SVC(kernel='linear')\n",
        "    imputer = SimpleImputer(missing_values=np.nan ,strategy = \"mean\")\n",
        "    imputer = imputer.fit(X_train)\n",
        "    X_train = imputer.transform(X_train)\n",
        "    X_test = imputer.transform(X_test)\n",
        "    svclassifier.fit(X_train, y_train)\n",
        "    filename = 'svm.sav'\n",
        "    pickle.dump(svclassifier, open(filename, 'wb'))\n",
        "    print(\"SVM Classification Accuracy:\"+ str(svclassifier.score(X_test,y_test)))\n",
        "    y_predict = svclassifier.predict(X_test)\n",
        "    y_true=y_test\n",
        "    cm=confusion_matrix(y_true,y_predict)\n",
        "    f,ax=plt.subplots(figsize=(5,5))\n",
        "    sns.heatmap(cm,annot=True,linewidth=0.5,linecolor=\"red\",fmt=\".0f\",ax=ax)\n",
        "    plt.xlabel(\"y_pred\")\n",
        "    plt.ylabel(\"y_true\")\n",
        "    plt.show()"
      ]
    },
    {
      "cell_type": "code",
      "execution_count": null,
      "metadata": {
        "id": "mKC1kXv0GjW8"
      },
      "outputs": [],
      "source": [
        "def build_classifier(X_train):\n",
        "    def bm():\n",
        "        classifier = Sequential() # initialize neural network\n",
        "        classifier.add(Dense(units = 80, kernel_initializer = 'uniform', activation = 'relu', input_dim = X_train.shape[1]))\n",
        "        classifier.add(Dense(units = 25, kernel_initializer = 'uniform', activation = 'relu'))\n",
        "       # classifier.add(Dense(units = 25, kernel_initializer = 'uniform', activation = 'relu'))\n",
        "        classifier.add(Dense(units = 2, kernel_initializer = 'uniform', activation = 'softmax'))\n",
        "        lr=.003\n",
        "        adam0=Adam(lr=lr)\n",
        "\n",
        "        classifier.compile(optimizer =adam0, loss = ' transfer type to binary.ategorical_crossentropy', metrics = ['accuracy'])\n",
        "        return classifier\n",
        "    return bm"
      ]
    },
    {
      "cell_type": "code",
      "execution_count": null,
      "metadata": {
        "id": "r4g-4bMIGjW8"
      },
      "outputs": [],
      "source": [
        "def ANN(X_train, X_test, y_train, y_test):\n",
        "    y_ = to_categorical(y_train)\n",
        "    y_t=to_categorical(y_test)\n",
        "    estimator  = KerasClassifier(build_fn = build_classifier(X_train), epochs = 5)\n",
        "    accuracies = cross_val_score(estimator, X = X_train, y = y_, cv = 3)\n",
        "    mean = accuracies.mean()\n",
        "    variance = accuracies.std()\n",
        "    print(\"Accuracy mean: \"+ str(mean))\n",
        "    print(\"Accuracy variance: \"+ str(variance))\n",
        "    filename = 'finalized_model.sav'\n",
        "pickle.dump(model, open(filename, 'wb'))"
      ]
    },
    {
      "cell_type": "code",
      "execution_count": null,
      "metadata": {
        "id": "ps0bJCjrGjW8"
      },
      "outputs": [],
      "source": [
        "def feature_selection(df):\n",
        "    pd.set_option('mode.use_inf_as_na', True)\n",
        "    #pd.DataFrame(df).fillna(\"NaN\")\n",
        "    df.dropna(inplace=True)\n",
        "    feature=(df.drop([' Label'],axis=1)).columns.values\n",
        "    labelencoder = LabelEncoder()\n",
        "    df.iloc[:, -1] = labelencoder.fit_transform(df.iloc[:, -1])\n",
        "    X = df.drop([' Label'],axis=1)\n",
        "    Y = df.iloc[:, -1].values.reshape(-1,1)\n",
        "    Y=np.ravel(Y)\n",
        "    imputer = SimpleImputer(strategy = \"mean\")\n",
        "    imputer = imputer.fit(X)\n",
        "    X = imputer.transform(X)\n",
        "    rf = RandomForestRegressor()\n",
        "    rf.fit(X, Y)\n",
        "    print (\"Features sorted by their score:\")\n",
        "    print (sorted(zip(map(lambda x: round(x, 4), rf.feature_importances_), feature), reverse=True))"
      ]
    },
    {
      "cell_type": "markdown",
      "metadata": {
        "id": "4IyvPDrUGjW9"
      },
      "source": [
        "## Feature"
      ]
    },
    {
      "cell_type": "code",
      "execution_count": null,
      "metadata": {
        "id": "xvSMTMhgGjW9"
      },
      "outputs": [],
      "source": [
        "feature_selection(dataset)"
      ]
    },
    {
      "cell_type": "markdown",
      "metadata": {
        "id": "pC4fUH4SGjW-"
      },
      "source": [
        "[(0.4612, ' Bwd Packet Length Std'), (0.2906, ' ECE Flag Count'), (0.1242, ' Bwd URG Flags'), (0.037, ' Subflow Bwd Packets'), (0.0325, ' Destination Port'), (0.011, ' Min Packet Length'), (0.0079, ' Bwd Packets/s'), (0.0069, ' Flow IAT Min'), (0.0058, ' min_seg_size_forward'), (0.0039, 'Bwd IAT Total'), (0.003, ' Subflow Bwd Bytes'), (0.0027, ' Flow Packets/s'), (0.002, ' Flow IAT Std'), (0.0011, ' Fwd Packet Length Std'), (0.0008, ' PSH Flag Count'), (0.0007, 'Fwd Packets/s'), (0.0006, 'Subflow Fwd Packets'), (0.0006, ' SYN Flag Count'), (0.0006, ' Fwd IAT Min'), (0.0006, ' Bwd IAT Std'), (0.0005, ' RST Flag Count'), (0.0004, 'Fwd IAT Total'), (0.0004, ' Total Backward Packets'), (0.0004, ' Fwd URG Flags'), (0.0004, ' Fwd Packet Length Max'), (0.0003, 'Flow Bytes/s'), (0.0003, ' Fwd Packet Length Min'), (0.0003, ' Fwd IAT Mean'), (0.0003, ' Flow IAT Max'), (0.0002, 'Total Length of Fwd Packets'), (0.0002, ' Total Length of Bwd Packets'), (0.0002, ' Subflow Fwd Bytes'), (0.0002, ' Fwd Header Length'), (0.0002, ' Flow IAT Mean'), (0.0002, ' Flow Duration'), (0.0002, ' Down/Up Ratio'), (0.0002, ' CWE Flag Count'), (0.0002, ' Bwd Header Length'), (0.0001, 'Bwd Packet Length Max'), (0.0001, 'Bwd Avg Bulk Rate'), (0.0001, ' Fwd Packet Length Mean'), (0.0001, ' Fwd IAT Std'), (0.0001, ' Bwd Packet Length Min'), (0.0001, ' Bwd Packet Length Mean'), (0.0001, ' Avg Fwd Segment Size'), (0.0001, ' Average Packet Size'), (0.0, 'Init_Win_bytes_forward'), (0.0, 'Idle Mean'), (0.0, 'Fwd PSH Flags'), (0.0, 'Fwd Avg Bytes/Bulk'), (0.0, 'FIN Flag Count'), (0.0, 'Active Mean'), (0.0, ' act_data_pkt_fwd'), (0.0, ' URG Flag Count'), (0.0, ' Total Fwd Packets'), (0.0, ' Packet Length Variance'), (0.0, ' Packet Length Std'), (0.0, ' Packet Length Mean'), (0.0, ' Max Packet Length'), (0.0, ' Init_Win_bytes_backward'), (0.0, ' Idle Std'), (0.0, ' Fwd IAT Max'), (0.0, ' Fwd Header Length.1'), (0.0, ' Fwd Avg Packets/Bulk'), (0.0, ' Fwd Avg Bulk Rate'), (0.0, ' Bwd PSH Flags'), (0.0, ' Bwd IAT Min'), (0.0, ' Bwd IAT Mean'), (0.0, ' Bwd IAT Max'), (0.0, ' Bwd Avg Packets/Bulk'), (0.0, ' Bwd Avg Bytes/Bulk'), (0.0, ' Avg Bwd Segment Size'), (0.0, ' Active Std'), (0.0, ' Active Min'), (0.0, ' Active Max'), (0.0, ' ACK Flag Count')]"
      ]
    },
    {
      "cell_type": "code",
      "source": [
        "dataset1 = dataset[[' Bwd Packet Length Std', ' ECE Flag Count',' Bwd URG Flags',' Subflow Bwd Packets',' Destination Port',' Min Packet Length',' Bwd Packets/s',' Flow IAT Min',' min_seg_size_forward','Bwd IAT Total',' Subflow Bwd Bytes',' Flow Packets/s',' Flow IAT Std', ' Fwd Packet Length Std',' PSH Flag Count','Fwd Packets/s','Subflow Fwd Packets',' SYN Flag Count',' Fwd IAT Min',' Bwd IAT Std', ' RST Flag Count','Fwd IAT Total',' Total Backward Packets',' Fwd URG Flags',' Fwd Packet Length Max','Flow Bytes/s',' Fwd Packet Length Min',' Fwd IAT Mean',' Flow IAT Max', ' Label']]"
      ],
      "metadata": {
        "id": "BRUP8rbNJ_CP"
      },
      "execution_count": null,
      "outputs": []
    },
    {
      "cell_type": "markdown",
      "metadata": {
        "id": "TkGTkIGoGjW-"
      },
      "source": [
        "Creating Train and Test datasets for all dataframes"
      ]
    },
    {
      "cell_type": "code",
      "execution_count": null,
      "metadata": {
        "id": "rcj8wI_rGjW-",
        "colab": {
          "base_uri": "https://localhost:8080/"
        },
        "outputId": "1f265df8-cda2-4368-f34b-224f5d47287b"
      },
      "outputs": [
        {
          "output_type": "stream",
          "name": "stdout",
          "text": [
            "Warning: No categorical columns found. Calling 'transform' will only return input data.\n"
          ]
        }
      ],
      "source": [
        "DoSX_train, DoSX_test, DoSy_train, DoSy_test=train_test_dataset(dataset)\n",
        "# DDoSX_train, DDoSX_test, DDoSy_train, DDoSy_test=train_test_dataset(DDoS_df)\n",
        "# PS_X_train,PS_X_test,PS_y_train, PS_y_test=train_test_dataset(PortScan_df)\n",
        "# NA_X_train, NA_X_test, NA_y_train, NA_y_test=train_test_dataset(NA_df)"
      ]
    },
    {
      "cell_type": "markdown",
      "metadata": {
        "id": "exe4YZdAGjW-"
      },
      "source": [
        "### Algorithms for dataframe with DoS and BENIGN:"
      ]
    },
    {
      "cell_type": "code",
      "execution_count": null,
      "metadata": {
        "id": "3rrkm3GiGjW_"
      },
      "outputs": [],
      "source": [
        "dosrf_score,dosrf_precision,dosrf_recall,dosrf_fscore,none=RandomForest(DoSX_train, DoSX_test, DoSy_train, DoSy_test)"
      ]
    },
    {
      "cell_type": "code",
      "execution_count": null,
      "metadata": {
        "id": "11SjDdgcfOpJ"
      },
      "outputs": [],
      "source": [
        "loaded_model = pickle.load(open(\"rf.sav\", 'rb'))\n",
        "# result = loaded_model.score(DoSX_test, DoSy_test)\n",
        "# print(result)\n",
        "result = loaded_model.predict(DoSX_test)\n",
        "list_set = set(result)\n",
        "# convert the set to the list\n",
        "unique_list = (list(list_set))\n",
        "for x in unique_list:\n",
        "    print(x)"
      ]
    },
    {
      "cell_type": "code",
      "source": [
        "DoSX_train1, DoSX_test1, DoSy_train1, DoSy_test1 =train_test_dataset(dataset1)"
      ],
      "metadata": {
        "id": "DYy5czGJfOCu"
      },
      "execution_count": null,
      "outputs": []
    },
    {
      "cell_type": "code",
      "execution_count": null,
      "metadata": {
        "id": "REKY1mviGjW_"
      },
      "outputs": [],
      "source": [
        "dosdt_score,dosdt_precision,dosdt_recall,dosdt_fscore,none=DecisionTree(DoSX_train, DoSX_test, DoSy_train, DoSy_test)"
      ]
    },
    {
      "cell_type": "code",
      "execution_count": null,
      "metadata": {
        "id": "nmC1MAwKGjW_"
      },
      "outputs": [],
      "source": [
        "dosKnn_score,dosKnn_precision,dosKnn_recall,dosKnn_fscore,none=kNN(DoSX_train, DoSX_test, DoSy_train, DoSy_test)"
      ]
    },
    {
      "cell_type": "code",
      "execution_count": null,
      "metadata": {
        "id": "tx7jwI1VGjXA"
      },
      "outputs": [],
      "source": [
        "SVM(DoSX_train, DoSX_test, DoSy_train, DoSy_test)"
      ]
    },
    {
      "cell_type": "markdown",
      "metadata": {
        "id": "YQGdkKmqGjXA"
      },
      "source": [
        "ANN accuracy acc:0.7636"
      ]
    },
    {
      "cell_type": "code",
      "execution_count": null,
      "metadata": {
        "id": "sZH1xphUGjXA",
        "scrolled": false
      },
      "outputs": [],
      "source": [
        "ANN(DoSX_train, DoSX_test, DoSy_train, DoSy_test)"
      ]
    },
    {
      "cell_type": "code",
      "execution_count": null,
      "metadata": {
        "id": "YGJkHGAHGjXA"
      },
      "outputs": [],
      "source": [
        "labels=np.unique(DoSy_train)\n",
        "print(labels)"
      ]
    },
    {
      "cell_type": "markdown",
      "metadata": {
        "id": "-X0e4O1RGjXB"
      },
      "source": [
        "### Algorithms for dataframe with PortScan and BENIGN:\n",
        "\n",
        "\n"
      ]
    },
    {
      "cell_type": "code",
      "execution_count": null,
      "metadata": {
        "id": "TvCqhyyGGjXB"
      },
      "outputs": [],
      "source": [
        "psrf_score,psrf_precision,psrf_recall,psrf_fscore,none=RandomForest(PS_X_train,PS_X_test,PS_y_train, PS_y_test)"
      ]
    },
    {
      "cell_type": "code",
      "execution_count": null,
      "metadata": {
        "id": "LS3yuwcxGjXB"
      },
      "outputs": [],
      "source": [
        "psdt_score,psdt_precision,psdt_recall,psdt_fscore,none=DecisionTree(PS_X_train,PS_X_test,PS_y_train, PS_y_test)"
      ]
    },
    {
      "cell_type": "code",
      "execution_count": null,
      "metadata": {
        "id": "C7J2-UD-GjXC"
      },
      "outputs": [],
      "source": [
        "psKnn_score,psKnn_precision,psKnn_recall,psKnn_fscore,none=kNN(PS_X_train,PS_X_test,PS_y_train, PS_y_test)"
      ]
    },
    {
      "cell_type": "code",
      "execution_count": null,
      "metadata": {
        "id": "VC15CtpSGjXC"
      },
      "outputs": [],
      "source": [
        "SVM(PS_X_train,PS_X_test,PS_y_train, PS_y_test)"
      ]
    },
    {
      "cell_type": "markdown",
      "metadata": {
        "id": "Vv5tDs7ZGjXD"
      },
      "source": [
        "ANN accuracy:0.8738"
      ]
    },
    {
      "cell_type": "code",
      "execution_count": null,
      "metadata": {
        "id": "M33RRQA3GjXD"
      },
      "outputs": [],
      "source": [
        "ANN(PS_X_train,PS_X_test,PS_y_train, PS_y_test)"
      ]
    },
    {
      "cell_type": "markdown",
      "metadata": {
        "id": "DDYibIhHGjXD"
      },
      "source": [
        "### Algorithms for dataframe with DDoS and BENIGN:"
      ]
    },
    {
      "cell_type": "code",
      "execution_count": null,
      "metadata": {
        "id": "Ec-6yyKVGjXD"
      },
      "outputs": [],
      "source": [
        "ddosrf_score,ddosrf_precision,ddosrf_recall,ddosrf_fscore,none=RandomForest(DDoSX_train, DDoSX_test, DDoSy_train, DDoSy_test)"
      ]
    },
    {
      "cell_type": "code",
      "execution_count": null,
      "metadata": {
        "id": "uDh8m3B5GjXE"
      },
      "outputs": [],
      "source": [
        "ddosdt_score,ddosdt_precision,ddosdt_recall,ddosdt_fscore,none=DecisionTree(DDoSX_train, DDoSX_test, DDoSy_train, DDoSy_test)"
      ]
    },
    {
      "cell_type": "code",
      "execution_count": null,
      "metadata": {
        "id": "73feh3IqGjXE"
      },
      "outputs": [],
      "source": [
        "ddosKnn_score,ddosKnn_precision,ddosKnn_recall,ddosKnn_fscore,none=kNN(DDoSX_train, DDoSX_test, DDoSy_train, DDoSy_test)"
      ]
    },
    {
      "cell_type": "code",
      "execution_count": null,
      "metadata": {
        "id": "yFctYMTBGjXE"
      },
      "outputs": [],
      "source": [
        "SVM(DDoSX_train, DDoSX_test, DDoSy_train, DDoSy_test)"
      ]
    },
    {
      "cell_type": "markdown",
      "metadata": {
        "id": "IjP_VqdQGjXF"
      },
      "source": [
        "ANN accuracy:0.8307"
      ]
    },
    {
      "cell_type": "code",
      "execution_count": null,
      "metadata": {
        "id": "bL5NImsbGjXF"
      },
      "outputs": [],
      "source": [
        "ANN(DDoSX_train, DDoSX_test, DDoSy_train, DDoSy_test)"
      ]
    },
    {
      "cell_type": "markdown",
      "metadata": {
        "id": "DKCPBJ3BGjXF"
      },
      "source": [
        "### Algorithms for dataframe with Normal and Abnormal:"
      ]
    },
    {
      "cell_type": "code",
      "execution_count": null,
      "metadata": {
        "id": "ammajvxHGjXF"
      },
      "outputs": [],
      "source": [
        "narf_score,narf_precision,narf_recall,narf_fscore,none=RandomForest(NA_X_train, NA_X_test, NA_y_train, NA_y_test)"
      ]
    },
    {
      "cell_type": "code",
      "execution_count": null,
      "metadata": {
        "id": "PSLSi0BAGjXG"
      },
      "outputs": [],
      "source": [
        "nadt_score,nadt_precision,nadt_recall,nadt_fscore,none=DecisionTree(NA_X_train, NA_X_test, NA_y_train, NA_y_test)"
      ]
    },
    {
      "cell_type": "code",
      "execution_count": null,
      "metadata": {
        "id": "wifSlwTrGjXG",
        "scrolled": true
      },
      "outputs": [],
      "source": [
        "naKnn_score,naKnn_precision,naKnn_recall,naKnn_fscore,none=kNN(NA_X_train, NA_X_test, NA_y_train, NA_y_test)"
      ]
    },
    {
      "cell_type": "code",
      "execution_count": null,
      "metadata": {
        "id": "Uk0X4Tf4GjXG"
      },
      "outputs": [],
      "source": [
        "SVM(NA_X_train, NA_X_test, NA_y_train, NA_y_test)"
      ]
    },
    {
      "cell_type": "markdown",
      "metadata": {
        "id": "49kb7E7FGjXG"
      },
      "source": [
        "ANN accuracy:0.6034"
      ]
    },
    {
      "cell_type": "code",
      "execution_count": null,
      "metadata": {
        "id": "K4gYG6_tGjXO"
      },
      "outputs": [],
      "source": [
        "ANN(NA_X_train, NA_X_test, NA_y_train, NA_y_test)"
      ]
    },
    {
      "cell_type": "markdown",
      "metadata": {
        "id": "Vr388yP0GjXP"
      },
      "source": [
        "## Accuracy table"
      ]
    },
    {
      "cell_type": "code",
      "execution_count": null,
      "metadata": {
        "id": "VshjLikTGjXP"
      },
      "outputs": [],
      "source": [
        "d={'Algorithms': [\"Random Forest\", \"Decision Tree\",\"KNN\",\"ANN\"],\n",
        "   'DoS accuracy': [dosrf_score,dosdt_score,dosKnn_score,0.7636],\n",
        "   'DDoS accuracy': [ddosrf_score, ddosdt_score,ddosKnn_score,0.8307],\n",
        "   'Port Scan accuracy':[psrf_score,psdt_score,psKnn_score,0.8738],\n",
        "   'Normal/Anormal accuracy':[narf_score,nadt_score,naKnn_score,0.6034],\n",
        "  }\n",
        "dataframe= pd.DataFrame(data=d)\n",
        "dataframe"
      ]
    },
    {
      "cell_type": "code",
      "execution_count": null,
      "metadata": {
        "id": "GqoaGSgIGjXP"
      },
      "outputs": [],
      "source": []
    }
  ],
  "metadata": {
    "colab": {
      "provenance": []
    },
    "kernelspec": {
      "display_name": "Python 3",
      "language": "python",
      "name": "python3"
    },
    "language_info": {
      "codemirror_mode": {
        "name": "ipython",
        "version": 3
      },
      "file_extension": ".py",
      "mimetype": "text/x-python",
      "name": "python",
      "nbconvert_exporter": "python",
      "pygments_lexer": "ipython3",
      "version": "3.6.5"
    }
  },
  "nbformat": 4,
  "nbformat_minor": 0
}